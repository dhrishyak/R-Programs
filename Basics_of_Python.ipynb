{
  "nbformat": 4,
  "nbformat_minor": 0,
  "metadata": {
    "colab": {
      "provenance": []
    },
    "kernelspec": {
      "name": "python3",
      "display_name": "Python 3"
    },
    "language_info": {
      "name": "python"
    }
  },
  "cells": [
    {
      "cell_type": "markdown",
      "source": [
        " ### PYTHON PROGRAMMING ASSIGNMENT\n",
        "\n",
        "\n",
        "\n",
        "\n",
        "\n",
        "\n",
        "\n"
      ],
      "metadata": {
        "id": "PEiQjfqPz3Ph"
      }
    },
    {
      "cell_type": "markdown",
      "source": [
        "Exercise 1:Prime Numbers\n",
        "\n",
        "\n",
        "Write a python program that checks whether a given number is prime or not.A prime number is a natural number greater than 1 and has no positive divisor other than 1 and itself."
      ],
      "metadata": {
        "id": "HwcMsuU80dQ1"
      }
    },
    {
      "cell_type": "code",
      "source": [
        "num = int(input('Enter a number:'))\n",
        "if num >1:\n",
        "  for i in range(2,num):\n",
        "    if (num % i) == 0:\n",
        "      print(num,'is not a prime number')\n",
        "      break\n",
        "  else:\n",
        "    print(num,'is a prime number')"
      ],
      "metadata": {
        "colab": {
          "base_uri": "https://localhost:8080/"
        },
        "id": "ogVtib--0Tu4",
        "outputId": "5aaf4c10-1bb0-4309-ef0c-8a1243d5f213"
      },
      "execution_count": 8,
      "outputs": [
        {
          "output_type": "stream",
          "name": "stdout",
          "text": [
            "Enter a number:11\n",
            "11 is a prime number\n"
          ]
        }
      ]
    },
    {
      "cell_type": "markdown",
      "source": [
        "Exercise 2: Product of Random Numbers\n",
        "\n",
        "\n",
        "\n",
        "Develop a python program that generates two random numbers and ask the user to enter the product of these numbers.The program should then check if the user's answer is correct and display an appropriate message.\n"
      ],
      "metadata": {
        "id": "PbQiGf_b2b3Z"
      }
    },
    {
      "cell_type": "code",
      "source": [
        "import random\n",
        "num1 = random.randint(1, 20)\n",
        "num2 = random.randint(1, 20)\n",
        "product = num1 * num2\n",
        "user_answer = int(input(f\"What is the product of {num1} and {num2}?\"))\n",
        "if user_answer == product:\n",
        "  print(\"User's answer is correct.\")\n",
        "else:\n",
        "  print(\"User's answer is incorrect.\")"
      ],
      "metadata": {
        "colab": {
          "base_uri": "https://localhost:8080/"
        },
        "id": "lyVTcosD2bQm",
        "outputId": "e3991c5a-811a-4ab9-ea41-3e59e0a950a3"
      },
      "execution_count": 33,
      "outputs": [
        {
          "output_type": "stream",
          "name": "stdout",
          "text": [
            "What is the product of 12 and 1?12\n",
            "User's answer is correct.\n"
          ]
        }
      ]
    },
    {
      "cell_type": "markdown",
      "source": [
        "Exercise 3: Squares of Even/Odd Numbers\n",
        "\n",
        "\n",
        "Create a python script that prints the squares of all even or odd numbers within the range of 100 to 200.Choose either even or odd numbers and document your choice in the code.\n"
      ],
      "metadata": {
        "id": "RZZD6S3e5lLh"
      }
    },
    {
      "cell_type": "code",
      "source": [
        "for i in range(100,201):\n",
        "  if i % 2 == 0:\n",
        "    print(\"The square of i is\",i**2)"
      ],
      "metadata": {
        "colab": {
          "base_uri": "https://localhost:8080/"
        },
        "id": "gMnJ2cKA5kRP",
        "outputId": "e01d87d8-9086-4442-fb68-c18660453918"
      },
      "execution_count": 13,
      "outputs": [
        {
          "output_type": "stream",
          "name": "stdout",
          "text": [
            "The square of i is 10000\n",
            "The square of i is 10404\n",
            "The square of i is 10816\n",
            "The square of i is 11236\n",
            "The square of i is 11664\n",
            "The square of i is 12100\n",
            "The square of i is 12544\n",
            "The square of i is 12996\n",
            "The square of i is 13456\n",
            "The square of i is 13924\n",
            "The square of i is 14400\n",
            "The square of i is 14884\n",
            "The square of i is 15376\n",
            "The square of i is 15876\n",
            "The square of i is 16384\n",
            "The square of i is 16900\n",
            "The square of i is 17424\n",
            "The square of i is 17956\n",
            "The square of i is 18496\n",
            "The square of i is 19044\n",
            "The square of i is 19600\n",
            "The square of i is 20164\n",
            "The square of i is 20736\n",
            "The square of i is 21316\n",
            "The square of i is 21904\n",
            "The square of i is 22500\n",
            "The square of i is 23104\n",
            "The square of i is 23716\n",
            "The square of i is 24336\n",
            "The square of i is 24964\n",
            "The square of i is 25600\n",
            "The square of i is 26244\n",
            "The square of i is 26896\n",
            "The square of i is 27556\n",
            "The square of i is 28224\n",
            "The square of i is 28900\n",
            "The square of i is 29584\n",
            "The square of i is 30276\n",
            "The square of i is 30976\n",
            "The square of i is 31684\n",
            "The square of i is 32400\n",
            "The square of i is 33124\n",
            "The square of i is 33856\n",
            "The square of i is 34596\n",
            "The square of i is 35344\n",
            "The square of i is 36100\n",
            "The square of i is 36864\n",
            "The square of i is 37636\n",
            "The square of i is 38416\n",
            "The square of i is 39204\n",
            "The square of i is 40000\n"
          ]
        }
      ]
    },
    {
      "cell_type": "markdown",
      "source": [
        "Exercise 4: Word counter\n",
        "\n",
        "\n",
        "Write a program to count the number of words in a given text:\n",
        "\n",
        "example:\n",
        "\n",
        "input_text = \"This is a sample text.This text will be used to demonstrate the word counter.\"\n",
        "\n",
        "Expected output:\n",
        "\n",
        "'This':2\n",
        "\n",
        "'is':1\n",
        "\n",
        "'a':1\n",
        "\n",
        "'sample':1\n",
        "\n",
        "'text':1"
      ],
      "metadata": {
        "id": "jluzo1gP7z0z"
      }
    },
    {
      "cell_type": "code",
      "source": [
        "input_text = \"This is a sample text. This text will be used to demonstrate the word counter.\"\n",
        "words = input_text.split(' ')\n",
        "dict = {}\n",
        "\n",
        "for word in words:\n",
        "    if word in dict:\n",
        "        dict[word]+=1\n",
        "    else:\n",
        "        dict[word]=1\n",
        "\n",
        "for key,value in dict.items():\n",
        "    print(f\"{key}:{value}\")"
      ],
      "metadata": {
        "colab": {
          "base_uri": "https://localhost:8080/"
        },
        "id": "pY9hBug-8oTb",
        "outputId": "9913d0b1-666d-4d16-dba6-a862d5d59794"
      },
      "execution_count": 29,
      "outputs": [
        {
          "output_type": "stream",
          "name": "stdout",
          "text": [
            "This:2\n",
            "is:1\n",
            "a:1\n",
            "sample:1\n",
            "text.:1\n",
            "text:1\n",
            "will:1\n",
            "be:1\n",
            "used:1\n",
            "to:1\n",
            "demonstrate:1\n",
            "the:1\n",
            "word:1\n",
            "counter.:1\n"
          ]
        }
      ]
    },
    {
      "cell_type": "markdown",
      "source": [
        "Exercise 5: Check for palindrome\n",
        "\n",
        "\n",
        "Write a python function called is_palindrome that takes a string as input and returns True if the string is a palindrome,and False otherwise.A palindrome is a word,phrase,number,or other sequence of characters that reads the same forward and backward,ignoring spaces,punctuation and capitalization.\n",
        "\n",
        "Example:\n",
        "\n",
        "Input:'racecar'\n",
        "\n",
        "Expected output:True"
      ],
      "metadata": {
        "id": "MgdKzD3v-rgc"
      }
    },
    {
      "cell_type": "code",
      "source": [
        "def is_palindrome(s):\n",
        "    return s  == s[::-1]\n",
        "\n",
        "input_word = input('Enter the word: ')\n",
        "\n",
        "if is_palindrome(input_word):\n",
        "    print(input_word, 'is a palindrome')\n",
        "else:\n",
        "    print(input_word,'is not a palindrome')"
      ],
      "metadata": {
        "colab": {
          "base_uri": "https://localhost:8080/"
        },
        "id": "Al1DCCzsACxM",
        "outputId": "a33fc020-54ba-46a2-86cb-afafea11db3f"
      },
      "execution_count": 23,
      "outputs": [
        {
          "output_type": "stream",
          "name": "stdout",
          "text": [
            "Enter the word: racecar\n",
            "racecar is a palindrome\n"
          ]
        }
      ]
    }
  ]
}